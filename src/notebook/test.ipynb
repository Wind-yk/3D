{
 "cells": [
  {
   "cell_type": "code",
   "execution_count": 77,
   "metadata": {},
   "outputs": [],
   "source": [
    "# https://banexdevblog.wordpress.com/2014/06/23/a-quick-tutorial-about-the-fbx-ascii-format/\n",
    "\n",
    "import json\n",
    "import numpy as np\n",
    "import matplotlib.pyplot as plt \n",
    "from mpl_toolkits import mplot3d  # for 3D plot"
   ]
  },
  {
   "cell_type": "code",
   "execution_count": 92,
   "metadata": {},
   "outputs": [
    {
     "data": {
      "text/plain": [
       "dict"
      ]
     },
     "execution_count": 92,
     "metadata": {},
     "output_type": "execute_result"
    }
   ],
   "source": [
    "with open(\"../../data/cube2.json\", 'r') as file:\n",
    "    data = json.load(file)\n",
    "type(data)"
   ]
  },
  {
   "cell_type": "code",
   "execution_count": 3,
   "metadata": {},
   "outputs": [
    {
     "data": {
      "text/plain": [
       "dict_keys(['version', 'children'])"
      ]
     },
     "execution_count": 3,
     "metadata": {},
     "output_type": "execute_result"
    }
   ],
   "source": [
    "data.keys()"
   ]
  },
  {
   "cell_type": "code",
   "execution_count": 4,
   "metadata": {},
   "outputs": [
    {
     "data": {
      "text/plain": [
       "7400"
      ]
     },
     "execution_count": 4,
     "metadata": {},
     "output_type": "execute_result"
    }
   ],
   "source": [
    "data['version']"
   ]
  },
  {
   "cell_type": "code",
   "execution_count": 5,
   "metadata": {},
   "outputs": [
    {
     "data": {
      "text/plain": [
       "({'name': [0, 1, 2, 3, 4, 5, 6, 7, 8, 9, 10],\n",
       "  'children': [0, 4, 5, 6, 7, 8, 9, 10],\n",
       "  'properties': [1, 2, 3]},\n",
       " 11)"
      ]
     },
     "execution_count": 5,
     "metadata": {},
     "output_type": "execute_result"
    }
   ],
   "source": [
    "attributes = {}\n",
    "for i,v in enumerate(data['children']):\n",
    "    for key in v:\n",
    "        if key in attributes:\n",
    "            attributes[key].append(i)\n",
    "        else:\n",
    "            attributes[key] = [i]\n",
    "attributes, len(data['children'])"
   ]
  },
  {
   "cell_type": "code",
   "execution_count": 8,
   "metadata": {},
   "outputs": [
    {
     "name": "stdout",
     "output_type": "stream",
     "text": [
      "0 FBXHeaderExtension\n",
      "1 FileId\n",
      "2 CreationTime\n",
      "3 Creator\n",
      "4 GlobalSettings\n",
      "5 Documents\n",
      "6 References\n",
      "7 Definitions\n",
      "8 Objects\n",
      "9 Connections\n",
      "10 Takes\n"
     ]
    }
   ],
   "source": [
    "for i,v in enumerate(data['children']):\n",
    "    print(i,v['name'])"
   ]
  },
  {
   "cell_type": "code",
   "execution_count": 10,
   "metadata": {},
   "outputs": [
    {
     "name": "stdout",
     "output_type": "stream",
     "text": [
      "dict_keys(['name', 'children'])\n"
     ]
    }
   ],
   "source": [
    "print(data['children'][8].keys())"
   ]
  },
  {
   "cell_type": "code",
   "execution_count": 14,
   "metadata": {},
   "outputs": [
    {
     "name": "stdout",
     "output_type": "stream",
     "text": [
      "0 Geometry\n",
      "1 Geometry\n",
      "2 Model\n",
      "3 Model\n",
      "4 Material\n",
      "5 \n"
     ]
    },
    {
     "data": {
      "text/plain": [
       "({'name': [0, 1, 2, 3, 4, 5],\n",
       "  'properties': [0, 1, 2, 3, 4],\n",
       "  'children': [0, 1, 2, 3, 4]},\n",
       " 6)"
      ]
     },
     "execution_count": 14,
     "metadata": {},
     "output_type": "execute_result"
    }
   ],
   "source": [
    "for i,v in enumerate(data['children'][8]['children']):\n",
    "    print(i,v['name'])\n",
    "\n",
    "attributes = {}\n",
    "for i,v in enumerate(data['children'][8]['children']):\n",
    "    for key in v:\n",
    "        if key in attributes:\n",
    "            attributes[key].append(i)\n",
    "        else:\n",
    "            attributes[key] = [i]\n",
    "attributes, len(data['children'][8]['children'])\n"
   ]
  },
  {
   "cell_type": "code",
   "execution_count": 64,
   "metadata": {},
   "outputs": [],
   "source": [
    "vertices = data['children'][8]['children'][0]['children'][2]['properties'][0]['value']\n",
    "polygon_index = data['children'][8]['children'][0]['children'][3]['properties'][0]['value']\n",
    "edges = data['children'][8]['children'][0]['children'][4]['properties'][0]['value']"
   ]
  },
  {
   "cell_type": "code",
   "execution_count": 73,
   "metadata": {},
   "outputs": [
    {
     "data": {
      "text/plain": [
       "[([-1.0, -1.0, -1.0], [-1.0, 1.0, 1.0]),\n",
       " ([-1.0, 1.0, 1.0], [-1.0, -1.0, 1.0]),\n",
       " ([-1.0, -1.0, 1.0], [1.0, -1.0, 1.0]),\n",
       " ([1.0, -1.0, 1.0], [1.0, -1.0, -1.0]),\n",
       " ([1.0, -1.0, -1.0], [1.0, -1.0, 1.0])]"
      ]
     },
     "execution_count": 73,
     "metadata": {},
     "output_type": "execute_result"
    }
   ],
   "source": [
    "def edge2connection(edge, polygon_index, points):\n",
    "    \"\"\"\n",
    "    Represents a 3D point in space.\n",
    "    \n",
    "    # Example:\n",
    "    >>> p1 = Point( -3.1 , 2.0 , 4.5 )\n",
    "    >>> p1.x\n",
    "    -3.1\n",
    "    >>> p1.y = 3\n",
    "    >>> p1\n",
    "    Point(-3.1, 2.0, 4.5)\n",
    "    >>> Point(1,2)\n",
    "    TypeError: Point.__init__() missing 1 required positional argument: 'z'\n",
    "    \"\"\"\n",
    "    def foo(x):\n",
    "        return x if x > 0 else abs(x)-1\n",
    "    return points[foo(polygon_index[edge])], points[foo(polygon_index[edge+1])]\n",
    "\n",
    "points = [vertices[i*3:(i+1)*3] for i in range(len(vertices)//3)]\n",
    "connections = [edge2connection(edge, polygon_index, points) for edge in edges]\n",
    "connections[:5]"
   ]
  },
  {
   "cell_type": "code",
   "execution_count": 74,
   "metadata": {},
   "outputs": [
    {
     "data": {
      "text/plain": [
       "(([-1.0, -1.0, -1.0],\n",
       "  [-1.0, 1.0, 1.0],\n",
       "  [-1.0, -1.0, 1.0],\n",
       "  [1.0, -1.0, 1.0],\n",
       "  [1.0, -1.0, -1.0]),\n",
       " ([-1.0, 1.0, 1.0],\n",
       "  [-1.0, -1.0, 1.0],\n",
       "  [1.0, -1.0, 1.0],\n",
       "  [1.0, -1.0, -1.0],\n",
       "  [1.0, -1.0, 1.0]))"
      ]
     },
     "execution_count": 74,
     "metadata": {},
     "output_type": "execute_result"
    }
   ],
   "source": [
    "_from, _to = list(zip(*connections))\n",
    "_from[:5], _to[:5]"
   ]
  },
  {
   "cell_type": "code",
   "execution_count": 83,
   "metadata": {},
   "outputs": [
    {
     "data": {
      "image/png": "[encoded data removed]",
      "text/plain": [
       "<Figure size 432x288 with 1 Axes>"
      ]
     },
     "metadata": {
      "needs_background": "light"
     },
     "output_type": "display_data"
    }
   ],
   "source": [
    "fig = plt.figure()\n",
    "ax = plt.axes(projection='3d')"
   ]
  },
  {
   "cell_type": "code",
   "execution_count": 84,
   "metadata": {},
   "outputs": [
    {
     "data": {
      "text/plain": [
       "<mpl_toolkits.mplot3d.art3d.Path3DCollection at 0x7f3edfa9c580>"
      ]
     },
     "execution_count": 84,
     "metadata": {},
     "output_type": "execute_result"
    }
   ],
   "source": [
    "ax.scatter3D([point[0] for point in points], [point[1] for point in points], [point[2] for point in points], cmap='blue')"
   ]
  },
  {
   "cell_type": "code",
   "execution_count": 103,
   "metadata": {},
   "outputs": [],
   "source": [
    "ax.plot3D([point[0] for point in points], [point[1] for point in points], [point[2] for point in points], 'blue')\n",
    "plt.show()"
   ]
  },
  {
   "cell_type": "code",
   "execution_count": 97,
   "metadata": {},
   "outputs": [
    {
     "data": {
      "image/png": "[encoded data removed]",
      "text/plain": [
       "<Figure size 432x288 with 1 Axes>"
      ]
     },
     "metadata": {
      "needs_background": "light"
     },
     "output_type": "display_data"
    }
   ],
   "source": [
    "x = [1, 2, 3, 4, 5]\n",
    "y = [2, 4, 6, 8, 10]\n",
    "\n",
    "# Plot\n",
    "\n",
    "plt.plot(x, y)\n",
    "\n",
    "# Display\n",
    "\n",
    "plt.show()"
   ]
  },
  {
   "cell_type": "code",
   "execution_count": 104,
   "metadata": {},
   "outputs": [
    {
     "ename": "TypeError",
     "evalue": "Dog.__init__() missing 1 required positional argument: 'y'",
     "output_type": "error",
     "traceback": [
      "\u001b[0;31m---------------------------------------------------------------------------\u001b[0m",
      "\u001b[0;31mTypeError\u001b[0m                                 Traceback (most recent call last)",
      "\u001b[1;32m/home/wind-yk/Study/SELF/3D/src/notebook/test.ipynb Cell 16'\u001b[0m in \u001b[0;36m<cell line: 6>\u001b[0;34m()\u001b[0m\n\u001b[1;32m      <a href='vscode-notebook-cell://wsl%2Bubuntu/home/wind-yk/Study/SELF/3D/src/notebook/test.ipynb#ch0000018vscode-remote?line=2'>3</a>\u001b[0m         \u001b[39mself\u001b[39m\u001b[39m.\u001b[39mx \u001b[39m=\u001b[39m x\n\u001b[1;32m      <a href='vscode-notebook-cell://wsl%2Bubuntu/home/wind-yk/Study/SELF/3D/src/notebook/test.ipynb#ch0000018vscode-remote?line=3'>4</a>\u001b[0m         \u001b[39mself\u001b[39m\u001b[39m.\u001b[39my \u001b[39m=\u001b[39m y\n\u001b[0;32m----> <a href='vscode-notebook-cell://wsl%2Bubuntu/home/wind-yk/Study/SELF/3D/src/notebook/test.ipynb#ch0000018vscode-remote?line=5'>6</a>\u001b[0m Dog(\u001b[39m1\u001b[39;49m)\n",
      "\u001b[0;31mTypeError\u001b[0m: Dog.__init__() missing 1 required positional argument: 'y'"
     ]
    }
   ],
   "source": [
    "class Dog:\n",
    "    def __init__(self, x: float, y: float):\n",
    "        self.x = x\n",
    "        self.y = y\n",
    "\n",
    "Dog(1)"
   ]
  },
  {
   "cell_type": "code",
   "execution_count": null,
   "metadata": {},
   "outputs": [],
   "source": []
  }
 ],
 "metadata": {
  "kernelspec": {
   "display_name": "Python 3.10.4 ('3D')",
   "language": "python",
   "name": "python3"
  },
  "language_info": {
   "codemirror_mode": {
    "name": "ipython",
    "version": 3
   },
   "file_extension": ".py",
   "mimetype": "text/x-python",
   "name": "python",
   "nbconvert_exporter": "python",
   "pygments_lexer": "ipython3",
   "version": "3.10.4"
  },
  "orig_nbformat": 4,
  "vscode": {
   "interpreter": {
    "hash": "2824415b281969d921b00f4282b72d7190e3f1031827951645d31b24b4644340"
   }
  }
 },
 "nbformat": 4,
 "nbformat_minor": 2
}
